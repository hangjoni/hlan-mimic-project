{
 "cells": [
  {
   "cell_type": "code",
   "execution_count": 38,
   "metadata": {},
   "outputs": [
    {
     "name": "stdout",
     "output_type": "stream",
     "text": [
      "The autoreload extension is already loaded. To reload it, use:\n",
      "  %reload_ext autoreload\n"
     ]
    }
   ],
   "source": [
    "%load_ext autoreload\n",
    "%autoreload 2\n",
    "import torch\n",
    "from utils import create_dataloaders, create_subset_dataloader\n",
    "from train import train"
   ]
  },
  {
   "cell_type": "code",
   "execution_count": 2,
   "metadata": {},
   "outputs": [
    {
     "name": "stdout",
     "output_type": "stream",
     "text": [
      "cache_path: ../cache_vocabulary_label_pik/mimic3-ds-50-HAN_word_vocabulary.pik file_exists: True\n",
      "load_data.started...\n",
      "load_data_multilabel_new.data_path: ../datasets/data/train_50_eamc.csv\n",
      "load_data.ended...\n",
      "load_data.started...\n",
      "load_data_multilabel_new.data_path: ../datasets/data/dev_50_eamc.csv\n",
      "load_data.ended...\n",
      "shuffled training data\n"
     ]
    }
   ],
   "source": [
    "train_dataloader, valid_dataloader, vocab_size = create_dataloaders()"
   ]
  },
  {
   "cell_type": "markdown",
   "metadata": {},
   "source": [
    "# Train with a small subset of data\n",
    "To show that training script works"
   ]
  },
  {
   "cell_type": "code",
   "execution_count": 5,
   "metadata": {},
   "outputs": [],
   "source": [
    "mini_train = create_subset_dataloader(train_dataloader, 10)\n",
    "mini_valid = create_subset_dataloader(valid_dataloader, 10)"
   ]
  },
  {
   "cell_type": "code",
   "execution_count": 12,
   "metadata": {},
   "outputs": [
    {
     "name": "stdout",
     "output_type": "stream",
     "text": [
      "cache_path: ../cache_vocabulary_label_pik/mimic3-ds-50-HAN_word_vocabulary.pik file_exists: True\n"
     ]
    },
    {
     "name": "stderr",
     "output_type": "stream",
     "text": [
      "Failed to detect the name of this notebook, you can set it manually with the WANDB_NOTEBOOK_NAME environment variable to enable code saving.\n",
      "\u001b[34m\u001b[1mwandb\u001b[0m: Currently logged in as: \u001b[33mhangjoni\u001b[0m. Use \u001b[1m`wandb login --relogin`\u001b[0m to force relogin\n"
     ]
    },
    {
     "data": {
      "text/html": [
       "Tracking run with wandb version 0.16.0"
      ],
      "text/plain": [
       "<IPython.core.display.HTML object>"
      ]
     },
     "metadata": {},
     "output_type": "display_data"
    },
    {
     "data": {
      "text/html": [
       "Run data is saved locally in <code>/Users/hungryfoolish/Documents/OMSCS/BD4H/hlan-mimic-project/HLAN_pytorch/wandb/run-20231127_160617-zbsx7dyp</code>"
      ],
      "text/plain": [
       "<IPython.core.display.HTML object>"
      ]
     },
     "metadata": {},
     "output_type": "display_data"
    },
    {
     "data": {
      "text/html": [
       "Syncing run <strong><a href='https://wandb.ai/hangjoni/bd4h-project-v1/runs/zbsx7dyp' target=\"_blank\">still-silence-11</a></strong> to <a href='https://wandb.ai/hangjoni/bd4h-project-v1' target=\"_blank\">Weights & Biases</a> (<a href='https://wandb.me/run' target=\"_blank\">docs</a>)<br/>"
      ],
      "text/plain": [
       "<IPython.core.display.HTML object>"
      ]
     },
     "metadata": {},
     "output_type": "display_data"
    },
    {
     "data": {
      "text/html": [
       " View project at <a href='https://wandb.ai/hangjoni/bd4h-project-v1' target=\"_blank\">https://wandb.ai/hangjoni/bd4h-project-v1</a>"
      ],
      "text/plain": [
       "<IPython.core.display.HTML object>"
      ]
     },
     "metadata": {},
     "output_type": "display_data"
    },
    {
     "data": {
      "text/html": [
       " View run at <a href='https://wandb.ai/hangjoni/bd4h-project-v1/runs/zbsx7dyp' target=\"_blank\">https://wandb.ai/hangjoni/bd4h-project-v1/runs/zbsx7dyp</a>"
      ],
      "text/plain": [
       "<IPython.core.display.HTML object>"
      ]
     },
     "metadata": {},
     "output_type": "display_data"
    },
    {
     "name": "stdout",
     "output_type": "stream",
     "text": [
      "Created directory to save model checkpoint at ../checkpoints/20231127_1606_mXxHx\n"
     ]
    },
    {
     "name": "stderr",
     "output_type": "stream",
     "text": [
      "1it [00:01,  1.58s/it]00:00<?, ?it/s]\n",
      "1it [00:00,  2.92it/s]\n",
      " 33%|███▎      | 1/3 [00:02<00:04,  2.04s/it]"
     ]
    },
    {
     "name": "stdout",
     "output_type": "stream",
     "text": [
      "Epoch 0 train loss: 0.7283565402030945, valid loss: 0.6292009353637695, f1: 0.1987577639751553\n"
     ]
    },
    {
     "name": "stderr",
     "output_type": "stream",
     "text": [
      "1it [00:01,  1.37s/it]\n",
      "1it [00:00,  2.65it/s]\n",
      " 67%|██████▋   | 2/3 [00:03<00:01,  1.91s/it]"
     ]
    },
    {
     "name": "stdout",
     "output_type": "stream",
     "text": [
      "Epoch 1 train loss: 0.5635514855384827, valid loss: 0.5439726114273071, f1: 0.16296296296296298\n"
     ]
    },
    {
     "name": "stderr",
     "output_type": "stream",
     "text": [
      "1it [00:00,  1.02it/s]\n",
      "1it [00:00,  2.83it/s]\n",
      "100%|██████████| 3/3 [00:05<00:00,  1.76s/it]"
     ]
    },
    {
     "name": "stdout",
     "output_type": "stream",
     "text": [
      "Epoch 2 train loss: 0.4704916477203369, valid loss: 0.5045055150985718, f1: 0.09433962264150944\n"
     ]
    },
    {
     "name": "stderr",
     "output_type": "stream",
     "text": [
      "\n"
     ]
    }
   ],
   "source": [
    "model = train(mini_train, mini_valid, vocab_size, epochs=3, log=True, verbose=True)"
   ]
  },
  {
   "cell_type": "markdown",
   "metadata": {},
   "source": [
    "# Resume training from previous checkpoint"
   ]
  },
  {
   "cell_type": "markdown",
   "metadata": {},
   "source": [
    "sometimes we may want to resume from previous checkpoint and start training from there"
   ]
  },
  {
   "cell_type": "code",
   "execution_count": 13,
   "metadata": {},
   "outputs": [
    {
     "name": "stdout",
     "output_type": "stream",
     "text": [
      "cache_path: ../cache_vocabulary_label_pik/mimic3-ds-50-HAN_word_vocabulary.pik file_exists: True\n",
      "Created directory to save model checkpoint at ../checkpoints/20231127_1615_ITwyV\n"
     ]
    },
    {
     "name": "stderr",
     "output_type": "stream",
     "text": [
      "1it [00:01,  1.04s/it]00:00<?, ?it/s]\n",
      "1it [00:00,  3.23it/s]\n",
      " 33%|███▎      | 1/3 [00:01<00:02,  1.43s/it]"
     ]
    },
    {
     "name": "stdout",
     "output_type": "stream",
     "text": [
      "Epoch 0 train loss: 0.7229511141777039, valid loss: 0.5858352184295654, f1: 0.18404907975460122\n"
     ]
    },
    {
     "name": "stderr",
     "output_type": "stream",
     "text": [
      "1it [00:00,  1.14it/s]\n",
      "1it [00:00,  3.22it/s]\n",
      " 67%|██████▋   | 2/3 [00:02<00:01,  1.32s/it]"
     ]
    },
    {
     "name": "stdout",
     "output_type": "stream",
     "text": [
      "Epoch 1 train loss: 0.5420527458190918, valid loss: 0.5094870924949646, f1: 0.09677419354838711\n"
     ]
    },
    {
     "name": "stderr",
     "output_type": "stream",
     "text": [
      "1it [00:00,  1.23it/s]\n",
      "1it [00:00,  3.25it/s]\n",
      "100%|██████████| 3/3 [00:03<00:00,  1.28s/it]"
     ]
    },
    {
     "name": "stdout",
     "output_type": "stream",
     "text": [
      "Epoch 2 train loss: 0.4543944299221039, valid loss: 0.48408228158950806, f1: 0.07920792079207921\n"
     ]
    },
    {
     "name": "stderr",
     "output_type": "stream",
     "text": [
      "\n"
     ]
    }
   ],
   "source": [
    "checkpoint_to_resume_from = \"../checkpoints/20231127_1604_qxDMJ/best_valid_loss.pt\"\n",
    "model = train(mini_train, mini_valid, vocab_size, epochs=3, log=False, verbose=True)"
   ]
  },
  {
   "cell_type": "markdown",
   "metadata": {},
   "source": [
    "# Train with Mac GPU"
   ]
  },
  {
   "cell_type": "code",
   "execution_count": 39,
   "metadata": {},
   "outputs": [
    {
     "data": {
      "text/plain": [
       "device(type='mps')"
      ]
     },
     "execution_count": 39,
     "metadata": {},
     "output_type": "execute_result"
    }
   ],
   "source": [
    "device = torch.device(\"cuda\" if torch.cuda.is_available() else \"mps\" if torch.backends.mps.is_available() else \"cpu\")\n",
    "device"
   ]
  },
  {
   "cell_type": "code",
   "execution_count": 40,
   "metadata": {},
   "outputs": [
    {
     "name": "stdout",
     "output_type": "stream",
     "text": [
      "cache_path: ../cache_vocabulary_label_pik/mimic3-ds-50-HAN_word_vocabulary.pik file_exists: True\n",
      "Created directory to save model checkpoint at ../checkpoints/20231127_1702_EVEOo\n"
     ]
    },
    {
     "name": "stderr",
     "output_type": "stream",
     "text": [
      "1it [00:00,  1.24it/s]00:00<?, ?it/s]\n",
      "1it [00:00, 10.85it/s]\n",
      "/Users/hungryfoolish/Documents/OMSCS/BD4H/hlan-mimic-project/HLAN_pytorch/metrics.py:93: RuntimeWarning: invalid value encountered in scalar divide\n",
      "  return intersect_size(yhatmic, ymic, 0) / yhatmic.sum(axis=0)\n",
      " 33%|███▎      | 1/3 [00:00<00:01,  1.10it/s]"
     ]
    },
    {
     "name": "stdout",
     "output_type": "stream",
     "text": [
      "Epoch 0 train loss: nan, valid loss: nan, f1: nan\n"
     ]
    },
    {
     "name": "stderr",
     "output_type": "stream",
     "text": [
      "1it [00:00,  2.31it/s]\n",
      "1it [00:00, 11.28it/s]\n",
      " 67%|██████▋   | 2/3 [00:01<00:00,  1.46it/s]"
     ]
    },
    {
     "name": "stdout",
     "output_type": "stream",
     "text": [
      "Epoch 1 train loss: nan, valid loss: nan, f1: nan\n"
     ]
    },
    {
     "name": "stderr",
     "output_type": "stream",
     "text": [
      "1it [00:00,  2.28it/s]\n",
      "1it [00:00, 11.07it/s]\n",
      "100%|██████████| 3/3 [00:01<00:00,  1.52it/s]\n"
     ]
    },
    {
     "name": "stdout",
     "output_type": "stream",
     "text": [
      "Epoch 2 train loss: nan, valid loss: nan, f1: nan\n"
     ]
    }
   ],
   "source": [
    "model = train(mini_train, mini_valid, vocab_size, epochs=3, log=False, verbose=True, device=device)"
   ]
  },
  {
   "cell_type": "markdown",
   "metadata": {},
   "source": [
    "# Train with all data"
   ]
  },
  {
   "cell_type": "markdown",
   "metadata": {},
   "source": [
    "When training for many epochs, we might not want to print the result to the screen, hence settign verbose=False. We set log=True which will log the output to Weights and Biases"
   ]
  },
  {
   "cell_type": "code",
   "execution_count": null,
   "metadata": {},
   "outputs": [],
   "source": [
    "model = train(train_dataloader, valid_dataloader, vocab_size, epochs=3, log=True, verbose=False)"
   ]
  }
 ],
 "metadata": {
  "kernelspec": {
   "display_name": "hlan",
   "language": "python",
   "name": "python3"
  },
  "language_info": {
   "codemirror_mode": {
    "name": "ipython",
    "version": 3
   },
   "file_extension": ".py",
   "mimetype": "text/x-python",
   "name": "python",
   "nbconvert_exporter": "python",
   "pygments_lexer": "ipython3",
   "version": "3.11.6"
  }
 },
 "nbformat": 4,
 "nbformat_minor": 2
}
